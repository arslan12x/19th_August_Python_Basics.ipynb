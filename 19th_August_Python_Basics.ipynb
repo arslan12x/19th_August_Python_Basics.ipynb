{
 "cells": [
  {
   "cell_type": "raw",
   "id": "5169217f-c5f4-4fb1-947d-0c68cc72d8bf",
   "metadata": {},
   "source": [
    "TOPIC: Python Basics Variable\n"
   ]
  },
  {
   "cell_type": "code",
   "execution_count": 11,
   "id": "4e4c65ef-9de3-4003-8abc-0fff74a3f5b3",
   "metadata": {
    "tags": []
   },
   "outputs": [
    {
     "name": "stdout",
     "output_type": "stream",
     "text": [
      "Now X=20\n",
      "Now Y=10\n"
     ]
    }
   ],
   "source": [
    "'''Q1. Declare two variables, `x` and `y`, and assign them integer values. Swap the\n",
    "values of these variables without using any temporary variable.x=10'''\n",
    "\n",
    "#Solution-\n",
    "\n",
    "x=10 \n",
    "y=20 \n",
    "#Firstly assigned two variables x and y an integer value. \n",
    "\n",
    "x=x+y  \n",
    "#basically it is logic that firstly we add both no. in x.\n",
    "\n",
    "y=x-y\n",
    "#then by subtracting y from x so it remain previous x value which is equal to y. \n",
    "\n",
    "x=x-y\n",
    "'''by subtracting y from x so it gives previous y value because currently y become x and by subtracting y from\n",
    "whole it remain previous y value.'''\n",
    "\n",
    "print('Now X=' + str(x))\n",
    "print('Now Y=' + str(y))\n"
   ]
  },
  {
   "cell_type": "code",
   "execution_count": 24,
   "id": "5fb8d465-1ab4-4e73-8cc8-b2012b72e46b",
   "metadata": {},
   "outputs": [
    {
     "name": "stdin",
     "output_type": "stream",
     "text": [
      "Please enter length :  30\n",
      "Please enter width :  40\n"
     ]
    },
    {
     "name": "stdout",
     "output_type": "stream",
     "text": [
      "Area of Rectangle : 1200\n"
     ]
    }
   ],
   "source": [
    "'''Q2. Create a program that calculates the area of a rectangle. Take the length and\n",
    "width as inputs from the user and store them in variables. Calculate and display the area.'''\n",
    "\n",
    "#Solution-\n",
    "\n",
    "length=int(input(\"Please enter length : \"))\n",
    "#taking input from user as length.\n",
    "\n",
    "width=int(input(\"Please enter width : \"))\n",
    "#taking input from user as width.\n",
    "\n",
    "area_of_rectangle=length*width\n",
    "#here we use formula to find area of rectangle.\n",
    "\n",
    "print('Area of Rectangle : ' + str(area_of_rectangle))"
   ]
  },
  {
   "cell_type": "code",
   "execution_count": 13,
   "id": "9492a7bc-ef00-4b4f-86ed-4efa13898d5a",
   "metadata": {},
   "outputs": [
    {
     "name": "stdin",
     "output_type": "stream",
     "text": [
      "Please enter temperature in celsius :  10\n"
     ]
    },
    {
     "name": "stdout",
     "output_type": "stream",
     "text": [
      "10 degree Celsius is equal to 50.0 degree Fahrenheit.\n"
     ]
    }
   ],
   "source": [
    "'''Q3. Write a Python program that converts temperatures from Celsius to Fahrenheit. Take the temperature \n",
    "in Celsius as input, store it in a variable, convert it to Fahrenheit, and display the result.'''\n",
    "\n",
    "#Solution-\n",
    "\n",
    "celsius = int(input(\"Please enter temperature in celsius : \"))\n",
    "#taking input from user as celcius.\n",
    "\n",
    "fahrenheit = (celsius * 1.8) + 32\n",
    "#here we use formula to find fahrenheit from celcius.\n",
    "\n",
    "print(str(celsius )+ \" degree Celsius is equal to \" + str(fahrenheit )+ \" degree Fahrenheit.\")"
   ]
  },
  {
   "cell_type": "raw",
   "id": "ab31c1be-e8de-4719-a0ac-47a422b63a7d",
   "metadata": {},
   "source": [
    "TOPIC: String Based Questions\n"
   ]
  },
  {
   "cell_type": "code",
   "execution_count": 14,
   "id": "859edd27-1715-4322-adaa-11965d471351",
   "metadata": {},
   "outputs": [
    {
     "name": "stdin",
     "output_type": "stream",
     "text": [
      "Please enter the string :  hey, how are you and what are you doing ?\n"
     ]
    },
    {
     "name": "stdout",
     "output_type": "stream",
     "text": [
      "Length of the String is 41\n"
     ]
    }
   ],
   "source": [
    "'''Q1. Write a Python program that takes a string as input and prints the length of\n",
    "the string.'''\n",
    "\n",
    "#Solution-\n",
    "\n",
    "strg=input(\"Please enter the string : \")\n",
    "#taking input from user as strg.\n",
    "\n",
    "print('Length of the String is ' + str(len(strg)))\n",
    "#here len() function is used for finding the length of the given string."
   ]
  },
  {
   "cell_type": "code",
   "execution_count": 19,
   "id": "e29dbe6e-5044-4c5f-add1-525262bcdcca",
   "metadata": {},
   "outputs": [
    {
     "name": "stdin",
     "output_type": "stream",
     "text": [
      "Please enter the string :  Deret\n"
     ]
    },
    {
     "name": "stdout",
     "output_type": "stream",
     "text": [
      "Total vowels are :2\n"
     ]
    }
   ],
   "source": [
    "\"\"\"Q2. Create a program that takes a sentence from the user and counts the number\n",
    "of vowels (a, e, i, o, u) in the string.\"\"\"\n",
    "\n",
    "#Solution-\n",
    "\n",
    "String=input(\"Please enter the string : \")\n",
    "#taking input from user as String.\n",
    "\n",
    "count = 0\n",
    "#initilising count for counting the total no. of occurance of vowel in string.\n",
    "\n",
    "String = String.lower()\n",
    "#here lower() function is used to convert all the uppercase word into lowercase so evaulation get easy.\n",
    "\n",
    "for i in String:\n",
    "#here for loop is used to checking every character of string.\n",
    "\n",
    "    if i == 'a' or i == 'e' or i == 'i' or i == 'o' or i == 'u':\n",
    "#if is used to check whether given word is vowel or not.\n",
    "\n",
    "        count+=1\n",
    "#if condition get true then vowel count get increase by 1.\n",
    "\n",
    "if count == 0:\n",
    "    print('No vowels found')\n",
    "else:\n",
    "    print('Total vowels are :' + str(count))"
   ]
  },
  {
   "cell_type": "code",
   "execution_count": 21,
   "id": "fb1ba518-2f00-47db-a68f-b314a27055a8",
   "metadata": {},
   "outputs": [
    {
     "name": "stdin",
     "output_type": "stream",
     "text": [
      "Please enter the string :  Polymorphism\n"
     ]
    },
    {
     "name": "stdout",
     "output_type": "stream",
     "text": [
      "The reversed string will be : msihpromyloP\n"
     ]
    }
   ],
   "source": [
    "\"\"\"Q3. Given a string, reverse the order of characters using string slicing and print\n",
    "the reversed string.\"\"\"\n",
    "\n",
    "#Solution-\n",
    "\n",
    "string=input(\"Please enter the string : \")\n",
    "#taking input from user as string.\n",
    "\n",
    "print('The reversed string will be : ' + string[::-1])\n",
    "#here slicing is get used for reversing the string by initilising jump value =-1."
   ]
  },
  {
   "cell_type": "code",
   "execution_count": 22,
   "id": "298308d2-e265-4d14-b55f-973e9b58c631",
   "metadata": {},
   "outputs": [
    {
     "name": "stdin",
     "output_type": "stream",
     "text": [
      "Please enter the string :  NeeN\n"
     ]
    },
    {
     "name": "stdout",
     "output_type": "stream",
     "text": [
      "The given string is palindrome\n"
     ]
    }
   ],
   "source": [
    "\"\"\"Q4. Write a program that takes a string as input and checks if it is a palindrome\n",
    "(reads the same forwards and backwards).\"\"\"\n",
    "\n",
    "#Solution-\n",
    "\n",
    "string=input(\"Please enter the string : \")\n",
    "#taking input from user as strg.\n",
    "\n",
    "string1=string[::-1]\n",
    "#by using jump value -1 we can reverse the string and store it in string1.\n",
    "\n",
    "\n",
    "#here we compare string and string1 and if it is same then it gives us palindrome either it's not an palindrome.\n",
    "if (string == string1):\n",
    "    print('The given string is palindrome')\n",
    "else:\n",
    "    print('The given string is not palindrome')"
   ]
  },
  {
   "cell_type": "code",
   "execution_count": 23,
   "id": "43843574-916d-498d-a15f-cd98724ad39a",
   "metadata": {},
   "outputs": [
    {
     "name": "stdin",
     "output_type": "stream",
     "text": [
      "Please enter the string :  There are five horses.\n"
     ]
    },
    {
     "name": "stdout",
     "output_type": "stream",
     "text": [
      "The given string after removing space Therearefivehorses.\n"
     ]
    }
   ],
   "source": [
    "\"\"\"Q5. Create a program that takes a string as input and removes all the spaces from\n",
    "it. Print the modified string without spaces.\"\"\"\n",
    "\n",
    "#Solution-\n",
    "\n",
    "string=input(\"Please enter the string : \")\n",
    "#taking input from user as strg.\n",
    "\n",
    "print('The given string after removing space ' + string.replace(\" \", \"\"))"
   ]
  },
  {
   "cell_type": "code",
   "execution_count": null,
   "id": "5a3ef1b5-546d-4e7c-b031-f2c80204ae28",
   "metadata": {},
   "outputs": [],
   "source": []
  }
 ],
 "metadata": {
  "kernelspec": {
   "display_name": "Python 3 (ipykernel)",
   "language": "python",
   "name": "python3"
  },
  "language_info": {
   "codemirror_mode": {
    "name": "ipython",
    "version": 3
   },
   "file_extension": ".py",
   "mimetype": "text/x-python",
   "name": "python",
   "nbconvert_exporter": "python",
   "pygments_lexer": "ipython3",
   "version": "3.10.8"
  }
 },
 "nbformat": 4,
 "nbformat_minor": 5
}
